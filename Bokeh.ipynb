{
 "cells": [
  {
   "cell_type": "code",
   "execution_count": 1,
   "id": "6232daa1",
   "metadata": {},
   "outputs": [],
   "source": [
    "from bokeh.plotting import figure,show,output_notebook\n",
    "import pandas\n",
    "\n",
    "data= pandas.read_csv(\"adbe.csv\",parse_dates=[\"Date\"])\n",
    "p = figure(x_axis_type=\"datetime\")\n",
    "p.line(data[\"Date\"],data[\"Close\"])\n",
    "p.circle(data[\"Date\"],data[\"Close\"])\n",
    "show(p)\n"
   ]
  },
  {
   "cell_type": "code",
   "execution_count": null,
   "id": "a72c704f",
   "metadata": {},
   "outputs": [],
   "source": []
  }
 ],
 "metadata": {
  "kernelspec": {
   "display_name": "Python 3",
   "language": "python",
   "name": "python3"
  },
  "language_info": {
   "codemirror_mode": {
    "name": "ipython",
    "version": 3
   },
   "file_extension": ".py",
   "mimetype": "text/x-python",
   "name": "python",
   "nbconvert_exporter": "python",
   "pygments_lexer": "ipython3",
   "version": "3.8.8"
  }
 },
 "nbformat": 4,
 "nbformat_minor": 5
}
